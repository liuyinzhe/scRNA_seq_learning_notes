{
 "cells": [
  {
   "cell_type": "code",
   "execution_count": 1,
   "id": "08494801-c987-4816-ac03-8f7d14b82a1e",
   "metadata": {},
   "outputs": [],
   "source": [
    "import omicverse as ov\n",
    "import scanpy as sc"
   ]
  },
  {
   "cell_type": "code",
   "execution_count": 2,
   "id": "f74c72a0-4e3e-48a0-977e-01d4763e9451",
   "metadata": {},
   "outputs": [],
   "source": [
    "#设定绘图格式，分辨率300dpi等\n",
    "ov.utils.ov_plot_set()"
   ]
  },
  {
   "cell_type": "markdown",
   "id": "a49af693-0d69-4661-abad-efde7d5251ac",
   "metadata": {},
   "source": [
    "### 1. 数据导入\n",
    "```python\n",
    "# 无法下载\n",
    "adata = sc.read_10x_h5(\r\n",
    "    filename=\"filtered_feature_bc_matrix.h5\",\r\n",
    "  backup_url=\"https://figshare.com/ndownloader/files/39546196\",\r\n",
    ")\r\n",
    "#adata=ov.utils.pancrea# https://figshare.com/articles/dataset/NeurIPS_2021_Benchmark_dataset/22716739\n",
    "#NeurIPS 2021 Benchmark dataset\n",
    "#Dataset posted on 2023-04-28, 16:51 authored by scverse, Malte Luecken\n",
    "#Subset of the benchmark dataset published in Luecken et al. (2021).\n",
    "\n",
    "\n",
    "#s1d3_filtered_feature_bc_matrix.h5 (19.49 MB)\n",
    "#MD5 checksum:\r",
    "#\n",
    "825f7f7578e3dc0b8955f5a97a402338\n",
    "#https://figshare.com/ndownloader/files/40347880\n",
    "\n",
    "\n",
    "#s1d1_filtered_feature_bc_matrix.h5 (21.79 MB)\n",
    "#MD5 checksum:\r",
    "#\n",
    "a99285913ea3f3d22600d3d2f8a88e4\r",
    "#\n",
    "https://figshare.com/ndownloader/files/4034\n",
    "s()\n",
    "\n",
    "```"
   ]
  },
  {
   "cell_type": "code",
   "execution_count": 3,
   "id": "179b536e-fd4c-4e15-aeb3-8964d3410bb5",
   "metadata": {},
   "outputs": [
    {
     "name": "stdout",
     "output_type": "stream",
     "text": [
      "reading data/s1d3_filtered_feature_bc_matrix.h5\n",
      " (0:00:00)\n"
     ]
    },
    {
     "data": {
      "text/plain": [
       "AnnData object with n_obs × n_vars = 8340 × 36601\n",
       "    var: 'gene_ids', 'feature_types', 'genome'"
      ]
     },
     "execution_count": 3,
     "metadata": {},
     "output_type": "execute_result"
    }
   ],
   "source": [
    "adata = sc.read_10x_h5(\n",
    "    filename=\"data/s1d3_filtered_feature_bc_matrix.h5\",\n",
    "  backup_url=\"\",\n",
    ")\n",
    "#adata = sc.read(\n",
    "#    filename=\"data/endocrinogenesis_day15.h5ad\",\n",
    "#    backup_url=\"\",\n",
    "#)\n",
    "adata"
   ]
  },
  {
   "cell_type": "markdown",
   "id": "c2ce45e2-89dd-4824-bd45-a396517f249a",
   "metadata": {},
   "source": [
    "- 数据集的形状为n_obs 8,340 x n_vars 36,601，这代表了 细胞标签 x 转录本数量 =  3,696 x 27998"
   ]
  },
  {
   "cell_type": "markdown",
   "id": "6bc42148-e775-416b-83b1-25b51779a399",
   "metadata": {},
   "source": [
    "- 函数var_names_make_unique()，通过将数字字符串附加到每个重复的索引元素（“1”、“2”等）来使变量名称var(=基因)唯一\n",
    "- obs_names_make_unique()使obs（=细胞）唯一"
   ]
  },
  {
   "cell_type": "code",
   "execution_count": 4,
   "id": "f0ea8713-a4b2-4a9e-96ef-520241904fad",
   "metadata": {},
   "outputs": [],
   "source": [
    "adata.var_names_make_unique()\n",
    "adata.obs_names_make_unique()"
   ]
  },
  {
   "cell_type": "code",
   "execution_count": 5,
   "id": "8a20b452-6f7f-4f23-9b10-66113335dcdd",
   "metadata": {},
   "outputs": [
    {
     "data": {
      "text/html": [
       "<div>\n",
       "<style scoped>\n",
       "    .dataframe tbody tr th:only-of-type {\n",
       "        vertical-align: middle;\n",
       "    }\n",
       "\n",
       "    .dataframe tbody tr th {\n",
       "        vertical-align: top;\n",
       "    }\n",
       "\n",
       "    .dataframe thead th {\n",
       "        text-align: right;\n",
       "    }\n",
       "</style>\n",
       "<table border=\"1\" class=\"dataframe\">\n",
       "  <thead>\n",
       "    <tr style=\"text-align: right;\">\n",
       "      <th></th>\n",
       "      <th>gene_ids</th>\n",
       "      <th>feature_types</th>\n",
       "      <th>genome</th>\n",
       "    </tr>\n",
       "  </thead>\n",
       "  <tbody>\n",
       "    <tr>\n",
       "      <th>MIR1302-2HG</th>\n",
       "      <td>ENSG00000243485</td>\n",
       "      <td>Gene Expression</td>\n",
       "      <td>GRCh38</td>\n",
       "    </tr>\n",
       "    <tr>\n",
       "      <th>FAM138A</th>\n",
       "      <td>ENSG00000237613</td>\n",
       "      <td>Gene Expression</td>\n",
       "      <td>GRCh38</td>\n",
       "    </tr>\n",
       "    <tr>\n",
       "      <th>OR4F5</th>\n",
       "      <td>ENSG00000186092</td>\n",
       "      <td>Gene Expression</td>\n",
       "      <td>GRCh38</td>\n",
       "    </tr>\n",
       "    <tr>\n",
       "      <th>AL627309.1</th>\n",
       "      <td>ENSG00000238009</td>\n",
       "      <td>Gene Expression</td>\n",
       "      <td>GRCh38</td>\n",
       "    </tr>\n",
       "    <tr>\n",
       "      <th>AL627309.3</th>\n",
       "      <td>ENSG00000239945</td>\n",
       "      <td>Gene Expression</td>\n",
       "      <td>GRCh38</td>\n",
       "    </tr>\n",
       "  </tbody>\n",
       "</table>\n",
       "</div>"
      ],
      "text/plain": [
       "                    gene_ids    feature_types  genome\n",
       "MIR1302-2HG  ENSG00000243485  Gene Expression  GRCh38\n",
       "FAM138A      ENSG00000237613  Gene Expression  GRCh38\n",
       "OR4F5        ENSG00000186092  Gene Expression  GRCh38\n",
       "AL627309.1   ENSG00000238009  Gene Expression  GRCh38\n",
       "AL627309.3   ENSG00000239945  Gene Expression  GRCh38"
      ]
     },
     "execution_count": 5,
     "metadata": {},
     "output_type": "execute_result"
    }
   ],
   "source": [
    "adata.var.head()"
   ]
  },
  {
   "cell_type": "markdown",
   "id": "9f650f2b-2a8f-483b-8bf2-19fdb09294cd",
   "metadata": {},
   "source": [
    "### 2. 过滤低质量的细胞\n",
    "\n",
    "细胞质控通常对以下三个质控协变量进行   \n",
    "- 每个条形码的计数数量(计数深度)  \n",
    "- 每个条形码的基因数量     \n",
    "- 每个条形码的线粒体基因计数比例    \n"
   ]
  },
  {
   "cell_type": "code",
   "execution_count": 6,
   "id": "253fb536-7186-4483-96eb-ced1ed034d22",
   "metadata": {},
   "outputs": [
    {
     "data": {
      "text/plain": [
       "AnnData object with n_obs × n_vars = 8340 × 36601\n",
       "    obs: 'n_genes_by_counts', 'log1p_n_genes_by_counts', 'total_counts', 'log1p_total_counts', 'pct_counts_in_top_20_genes', 'total_counts_mt', 'log1p_total_counts_mt', 'pct_counts_mt', 'total_counts_ribo', 'log1p_total_counts_ribo', 'pct_counts_ribo', 'total_counts_hb', 'log1p_total_counts_hb', 'pct_counts_hb'\n",
       "    var: 'gene_ids', 'feature_types', 'genome', 'mt', 'ribo', 'hb', 'n_cells_by_counts', 'mean_counts', 'log1p_mean_counts', 'pct_dropout_by_counts', 'total_counts', 'log1p_total_counts'"
      ]
     },
     "execution_count": 6,
     "metadata": {},
     "output_type": "execute_result"
    }
   ],
   "source": [
    "# 线粒体基因\n",
    "adata.var[\"mt\"] = adata.var_names.str.startswith(\"MT-\")\n",
    "# 核糖体基因\n",
    "adata.var[\"ribo\"] = adata.var_names.str.startswith((\"RPS\", \"RPL\"))\n",
    "# 血红蛋白基因\n",
    "adata.var[\"hb\"] = adata.var_names.str.contains((\"^HB[^(P)]\"))\n",
    "\n",
    "# 使用scanpy函数 sc.pp.calculate_qc_metrics 来计算协变量\n",
    "sc.pp.calculate_qc_metrics(\n",
    "    adata, qc_vars=[\"mt\", \"ribo\", \"hb\"], inplace=True, percent_top=[20], log1p=True\n",
    ")\n",
    "adata"
   ]
  },
  {
   "cell_type": "markdown",
   "id": "578c25ff-5b85-4192-ac87-79379abc1f41",
   "metadata": {},
   "source": [
    "- n_genes_by_counts/detected_genes: 一个细胞中发现的有效基因数量（即表达量不为0）\n",
    "- total_counts/nUMIs: 一个细胞中发现的分子数量（UMI），通常也可以被认为是这个细胞的文库大小\n",
    "- pct_counts_mt/mito_perc: 一个细胞中线粒体基因的表达计数占比"
   ]
  },
  {
   "cell_type": "code",
   "execution_count": 7,
   "id": "965727da-5b2d-4fc4-aa8b-7c7d1c1f2b13",
   "metadata": {},
   "outputs": [
    {
     "data": {
      "text/html": [
       "<div>\n",
       "<style scoped>\n",
       "    .dataframe tbody tr th:only-of-type {\n",
       "        vertical-align: middle;\n",
       "    }\n",
       "\n",
       "    .dataframe tbody tr th {\n",
       "        vertical-align: top;\n",
       "    }\n",
       "\n",
       "    .dataframe thead th {\n",
       "        text-align: right;\n",
       "    }\n",
       "</style>\n",
       "<table border=\"1\" class=\"dataframe\">\n",
       "  <thead>\n",
       "    <tr style=\"text-align: right;\">\n",
       "      <th></th>\n",
       "      <th>nUMIs</th>\n",
       "      <th>total_counts</th>\n",
       "      <th>n_genes_by_counts</th>\n",
       "      <th>detected_genes</th>\n",
       "      <th>pct_counts_mt</th>\n",
       "      <th>mito_perc</th>\n",
       "    </tr>\n",
       "  </thead>\n",
       "  <tbody>\n",
       "    <tr>\n",
       "      <th>AAACCCAAGAAGTGTT-1</th>\n",
       "      <td>5739.0</td>\n",
       "      <td>5739.0</td>\n",
       "      <td>1391</td>\n",
       "      <td>1391</td>\n",
       "      <td>6.586514</td>\n",
       "      <td>0.065865</td>\n",
       "    </tr>\n",
       "    <tr>\n",
       "      <th>AAACCCAAGCTGACTT-1</th>\n",
       "      <td>5334.0</td>\n",
       "      <td>5334.0</td>\n",
       "      <td>1625</td>\n",
       "      <td>1625</td>\n",
       "      <td>9.280090</td>\n",
       "      <td>0.092801</td>\n",
       "    </tr>\n",
       "    <tr>\n",
       "      <th>AAACCCACAAATGGCG-1</th>\n",
       "      <td>6661.0</td>\n",
       "      <td>6661.0</td>\n",
       "      <td>2400</td>\n",
       "      <td>2400</td>\n",
       "      <td>6.830806</td>\n",
       "      <td>0.068308</td>\n",
       "    </tr>\n",
       "    <tr>\n",
       "      <th>AAACCCACATAGAATG-1</th>\n",
       "      <td>6712.0</td>\n",
       "      <td>6712.0</td>\n",
       "      <td>1743</td>\n",
       "      <td>1743</td>\n",
       "      <td>7.166269</td>\n",
       "      <td>0.071663</td>\n",
       "    </tr>\n",
       "    <tr>\n",
       "      <th>AAACCCAGTCTTCTAT-1</th>\n",
       "      <td>5535.0</td>\n",
       "      <td>5535.0</td>\n",
       "      <td>2113</td>\n",
       "      <td>2113</td>\n",
       "      <td>5.962059</td>\n",
       "      <td>0.059621</td>\n",
       "    </tr>\n",
       "    <tr>\n",
       "      <th>...</th>\n",
       "      <td>...</td>\n",
       "      <td>...</td>\n",
       "      <td>...</td>\n",
       "      <td>...</td>\n",
       "      <td>...</td>\n",
       "      <td>...</td>\n",
       "    </tr>\n",
       "    <tr>\n",
       "      <th>TTTGTTGAGAGTCTGG-1</th>\n",
       "      <td>615.0</td>\n",
       "      <td>615.0</td>\n",
       "      <td>277</td>\n",
       "      <td>277</td>\n",
       "      <td>45.853661</td>\n",
       "      <td>0.458537</td>\n",
       "    </tr>\n",
       "    <tr>\n",
       "      <th>TTTGTTGCAGACAATA-1</th>\n",
       "      <td>13218.0</td>\n",
       "      <td>13218.0</td>\n",
       "      <td>3797</td>\n",
       "      <td>3797</td>\n",
       "      <td>6.536541</td>\n",
       "      <td>0.065365</td>\n",
       "    </tr>\n",
       "    <tr>\n",
       "      <th>TTTGTTGCATGTTACG-1</th>\n",
       "      <td>27280.0</td>\n",
       "      <td>27280.0</td>\n",
       "      <td>3089</td>\n",
       "      <td>3089</td>\n",
       "      <td>3.757332</td>\n",
       "      <td>0.037573</td>\n",
       "    </tr>\n",
       "    <tr>\n",
       "      <th>TTTGTTGGTAGTCACT-1</th>\n",
       "      <td>698.0</td>\n",
       "      <td>698.0</td>\n",
       "      <td>379</td>\n",
       "      <td>379</td>\n",
       "      <td>20.487106</td>\n",
       "      <td>0.204871</td>\n",
       "    </tr>\n",
       "    <tr>\n",
       "      <th>TTTGTTGTCGCGCTGA-1</th>\n",
       "      <td>7358.0</td>\n",
       "      <td>7358.0</td>\n",
       "      <td>1599</td>\n",
       "      <td>1599</td>\n",
       "      <td>5.816798</td>\n",
       "      <td>0.058168</td>\n",
       "    </tr>\n",
       "  </tbody>\n",
       "</table>\n",
       "<p>8340 rows × 6 columns</p>\n",
       "</div>"
      ],
      "text/plain": [
       "                      nUMIs  total_counts  n_genes_by_counts  detected_genes  \\\n",
       "AAACCCAAGAAGTGTT-1   5739.0        5739.0               1391            1391   \n",
       "AAACCCAAGCTGACTT-1   5334.0        5334.0               1625            1625   \n",
       "AAACCCACAAATGGCG-1   6661.0        6661.0               2400            2400   \n",
       "AAACCCACATAGAATG-1   6712.0        6712.0               1743            1743   \n",
       "AAACCCAGTCTTCTAT-1   5535.0        5535.0               2113            2113   \n",
       "...                     ...           ...                ...             ...   \n",
       "TTTGTTGAGAGTCTGG-1    615.0         615.0                277             277   \n",
       "TTTGTTGCAGACAATA-1  13218.0       13218.0               3797            3797   \n",
       "TTTGTTGCATGTTACG-1  27280.0       27280.0               3089            3089   \n",
       "TTTGTTGGTAGTCACT-1    698.0         698.0                379             379   \n",
       "TTTGTTGTCGCGCTGA-1   7358.0        7358.0               1599            1599   \n",
       "\n",
       "                    pct_counts_mt  mito_perc  \n",
       "AAACCCAAGAAGTGTT-1       6.586514   0.065865  \n",
       "AAACCCAAGCTGACTT-1       9.280090   0.092801  \n",
       "AAACCCACAAATGGCG-1       6.830806   0.068308  \n",
       "AAACCCACATAGAATG-1       7.166269   0.071663  \n",
       "AAACCCAGTCTTCTAT-1       5.962059   0.059621  \n",
       "...                           ...        ...  \n",
       "TTTGTTGAGAGTCTGG-1      45.853661   0.458537  \n",
       "TTTGTTGCAGACAATA-1       6.536541   0.065365  \n",
       "TTTGTTGCATGTTACG-1       3.757332   0.037573  \n",
       "TTTGTTGGTAGTCACT-1      20.487106   0.204871  \n",
       "TTTGTTGTCGCGCTGA-1       5.816798   0.058168  \n",
       "\n",
       "[8340 rows x 6 columns]"
      ]
     },
     "execution_count": 7,
     "metadata": {},
     "output_type": "execute_result"
    }
   ],
   "source": [
    "#除了使用sc.pp.calculate_qc_metrics来计算协变量外，我们还可以手动计算。\n",
    "#在这里，我们首先需要判断单细胞测序的矩阵格式，我们使用scipy.sparse的issparse来进行判断\n",
    "\n",
    "#src='''\n",
    "from scipy.sparse import issparse\n",
    "if issparse(adata.X):\n",
    "    adata.obs['nUMIs'] = adata.X.toarray().sum(axis=1)  \n",
    "    adata.obs['mito_perc'] = adata[:, adata.var[\"mt\"]].X.toarray().sum(axis=1) / adata.obs['nUMIs'].values\n",
    "    adata.obs['detected_genes'] = (adata.X.toarray() > 0).sum(axis=1)  \n",
    "else:\n",
    "    adata.obs['nUMIs'] = adata.X.sum(axis=1)  \n",
    "    adata.obs['mito_perc'] = adata[:, adata.var[\"mt\"]].X.sum(axis=1) / adata.obs['nUMIs'].values\n",
    "    adata.obs['detected_genes'] = (adata.X > 0).sum(axis=1)  \n",
    "    \n",
    "adata.obs[['nUMIs','total_counts','n_genes_by_counts','detected_genes','pct_counts_mt','mito_perc',]]\n",
    "#'''"
   ]
  },
  {
   "cell_type": "code",
   "execution_count": 8,
   "id": "ee613c67-cd06-432c-8a13-595bce50da78",
   "metadata": {},
   "outputs": [
    {
     "data": {
      "text/html": [
       "<div>\n",
       "<style scoped>\n",
       "    .dataframe tbody tr th:only-of-type {\n",
       "        vertical-align: middle;\n",
       "    }\n",
       "\n",
       "    .dataframe tbody tr th {\n",
       "        vertical-align: top;\n",
       "    }\n",
       "\n",
       "    .dataframe thead th {\n",
       "        text-align: right;\n",
       "    }\n",
       "</style>\n",
       "<table border=\"1\" class=\"dataframe\">\n",
       "  <thead>\n",
       "    <tr style=\"text-align: right;\">\n",
       "      <th></th>\n",
       "      <th>gene_ids</th>\n",
       "      <th>feature_types</th>\n",
       "      <th>genome</th>\n",
       "      <th>mt</th>\n",
       "      <th>ribo</th>\n",
       "      <th>hb</th>\n",
       "      <th>n_cells_by_counts</th>\n",
       "      <th>mean_counts</th>\n",
       "      <th>log1p_mean_counts</th>\n",
       "      <th>pct_dropout_by_counts</th>\n",
       "      <th>total_counts</th>\n",
       "      <th>log1p_total_counts</th>\n",
       "    </tr>\n",
       "  </thead>\n",
       "  <tbody>\n",
       "    <tr>\n",
       "      <th>MIR1302-2HG</th>\n",
       "      <td>ENSG00000243485</td>\n",
       "      <td>Gene Expression</td>\n",
       "      <td>GRCh38</td>\n",
       "      <td>False</td>\n",
       "      <td>False</td>\n",
       "      <td>False</td>\n",
       "      <td>0</td>\n",
       "      <td>0.000000</td>\n",
       "      <td>0.000000</td>\n",
       "      <td>100.000000</td>\n",
       "      <td>0.0</td>\n",
       "      <td>0.000000</td>\n",
       "    </tr>\n",
       "    <tr>\n",
       "      <th>FAM138A</th>\n",
       "      <td>ENSG00000237613</td>\n",
       "      <td>Gene Expression</td>\n",
       "      <td>GRCh38</td>\n",
       "      <td>False</td>\n",
       "      <td>False</td>\n",
       "      <td>False</td>\n",
       "      <td>0</td>\n",
       "      <td>0.000000</td>\n",
       "      <td>0.000000</td>\n",
       "      <td>100.000000</td>\n",
       "      <td>0.0</td>\n",
       "      <td>0.000000</td>\n",
       "    </tr>\n",
       "    <tr>\n",
       "      <th>OR4F5</th>\n",
       "      <td>ENSG00000186092</td>\n",
       "      <td>Gene Expression</td>\n",
       "      <td>GRCh38</td>\n",
       "      <td>False</td>\n",
       "      <td>False</td>\n",
       "      <td>False</td>\n",
       "      <td>0</td>\n",
       "      <td>0.000000</td>\n",
       "      <td>0.000000</td>\n",
       "      <td>100.000000</td>\n",
       "      <td>0.0</td>\n",
       "      <td>0.000000</td>\n",
       "    </tr>\n",
       "    <tr>\n",
       "      <th>AL627309.1</th>\n",
       "      <td>ENSG00000238009</td>\n",
       "      <td>Gene Expression</td>\n",
       "      <td>GRCh38</td>\n",
       "      <td>False</td>\n",
       "      <td>False</td>\n",
       "      <td>False</td>\n",
       "      <td>15</td>\n",
       "      <td>0.001799</td>\n",
       "      <td>0.001797</td>\n",
       "      <td>99.820144</td>\n",
       "      <td>15.0</td>\n",
       "      <td>2.772589</td>\n",
       "    </tr>\n",
       "    <tr>\n",
       "      <th>AL627309.3</th>\n",
       "      <td>ENSG00000239945</td>\n",
       "      <td>Gene Expression</td>\n",
       "      <td>GRCh38</td>\n",
       "      <td>False</td>\n",
       "      <td>False</td>\n",
       "      <td>False</td>\n",
       "      <td>1</td>\n",
       "      <td>0.000120</td>\n",
       "      <td>0.000120</td>\n",
       "      <td>99.988010</td>\n",
       "      <td>1.0</td>\n",
       "      <td>0.693147</td>\n",
       "    </tr>\n",
       "  </tbody>\n",
       "</table>\n",
       "</div>"
      ],
      "text/plain": [
       "                    gene_ids    feature_types  genome     mt   ribo     hb  \\\n",
       "MIR1302-2HG  ENSG00000243485  Gene Expression  GRCh38  False  False  False   \n",
       "FAM138A      ENSG00000237613  Gene Expression  GRCh38  False  False  False   \n",
       "OR4F5        ENSG00000186092  Gene Expression  GRCh38  False  False  False   \n",
       "AL627309.1   ENSG00000238009  Gene Expression  GRCh38  False  False  False   \n",
       "AL627309.3   ENSG00000239945  Gene Expression  GRCh38  False  False  False   \n",
       "\n",
       "             n_cells_by_counts  mean_counts  log1p_mean_counts  \\\n",
       "MIR1302-2HG                  0     0.000000           0.000000   \n",
       "FAM138A                      0     0.000000           0.000000   \n",
       "OR4F5                        0     0.000000           0.000000   \n",
       "AL627309.1                  15     0.001799           0.001797   \n",
       "AL627309.3                   1     0.000120           0.000120   \n",
       "\n",
       "             pct_dropout_by_counts  total_counts  log1p_total_counts  \n",
       "MIR1302-2HG             100.000000           0.0            0.000000  \n",
       "FAM138A                 100.000000           0.0            0.000000  \n",
       "OR4F5                   100.000000           0.0            0.000000  \n",
       "AL627309.1               99.820144          15.0            2.772589  \n",
       "AL627309.3               99.988010           1.0            0.693147  "
      ]
     },
     "execution_count": 8,
     "metadata": {},
     "output_type": "execute_result"
    }
   ],
   "source": [
    "adata.var.head()"
   ]
  },
  {
   "cell_type": "code",
   "execution_count": 9,
   "id": "7984f191-c4c8-4515-855a-be3acac37066",
   "metadata": {},
   "outputs": [
    {
     "data": {
      "image/png": "[encoded data removed]",
      "text/plain": [
       "<Figure size 640x320 with 2 Axes>"
      ]
     },
     "metadata": {
      "image/png": {
       "height": 300,
       "width": 622
      }
     },
     "output_type": "display_data"
    }
   ],
   "source": [
    "import matplotlib.pyplot as plt\n",
    "mito_filter = 15\n",
    "n_counts_filter = 4300\n",
    "fig, axs = plt.subplots(ncols = 2, figsize = (8,4))\n",
    "sc.pl.scatter(adata, x='total_counts', y='pct_counts_mt',ax = axs[0], show=False)\n",
    "sc.pl.scatter(adata, x='total_counts', y='n_genes_by_counts',ax = axs[1], show = False)\n",
    "#draw horizontal red lines indicating thresholds.\n",
    "axs[0].hlines(y = mito_filter, xmin = 0, xmax = max(adata.obs['total_counts']), color = 'red', ls = 'dashed')\n",
    "axs[1].hlines(y = n_counts_filter, xmin = 0, xmax = max(adata.obs['total_counts']), color = 'red', ls = 'dashed')\n",
    "fig.tight_layout()\n",
    "plt.show()"
   ]
  },
  {
   "cell_type": "markdown",
   "id": "41e3e39a-2d34-429d-b19c-2315a52f3f5b",
   "metadata": {},
   "source": [
    "在scanpy的官方教程中，\n",
    "高计数的细胞被认为是双细胞进而过滤，所以我们绘制了两条红线，\n",
    "但在我们的教程中，对于双细胞我们将采用其他方法进行过滤，\n",
    "所以我们只需要对一些低表达的细胞进行质控，\n",
    "比如nUMI小于500的细胞，比如detected_gene小于250的细胞，线粒体基因的计数比例不超过15%。\n",
    "但这个过滤我们要在双细胞过滤完后再进行。\n",
    "\n"
   ]
  },
  {
   "cell_type": "code",
   "execution_count": 10,
   "id": "5549d6dc-c734-4104-9ca7-435c0574aa5b",
   "metadata": {},
   "outputs": [
    {
     "name": "stdout",
     "output_type": "stream",
     "text": [
      "Original cell number: 8340\n"
     ]
    }
   ],
   "source": [
    "# Original QC plot\n",
    "n0 = adata.shape[0]\n",
    "print(f'Original cell number: {n0}')"
   ]
  },
  {
   "cell_type": "markdown",
   "id": "c6d1fb33-6db2-4760-9de8-2d13d95980c3",
   "metadata": {},
   "source": [
    "### 3. 双细胞的过滤"
   ]
  },
  {
   "cell_type": "markdown",
   "id": "b0f7c2ab-7460-4360-b17b-8ff0c7110ac8",
   "metadata": {},
   "source": [
    "+ 双细胞被定义为在相同的细胞条形码（barcode）下进行测序的两个细胞\n",
    "\n",
    "- 双细胞被定义为在相同的细胞条形码（barcode）下进行测序的两个细胞\n",
    "- 它们被捕获在同一个液滴（droplet）中。这也是为什么使用barcode而不是cells的原因\n",
    "\n",
    "+ 同型(homotypic)：同型通常被认为是不影响下游分析的，因为其是由一类相同的细胞中的两个所构成，所以这部分细胞不是我们所需要过滤的对象\n",
    "+ 异型(heterotypic)：异型通常是由来自两类不同的细胞所构成的，异型的存在会使得我们后续的细胞分类出现错误，因为其独特的数据分布特征。"
   ]
  },
  {
   "cell_type": "markdown",
   "id": "0fc53ea5-86d1-4f27-91ec-c8352ea99f59",
   "metadata": {},
   "source": [
    "##### 使用scrublet来完成双细胞的识别"
   ]
  },
  {
   "cell_type": "code",
   "execution_count": 11,
   "id": "8159bbdd-225e-41c8-be48-e95ddc655b9d",
   "metadata": {},
   "outputs": [
    {
     "name": "stdout",
     "output_type": "stream",
     "text": [
      "Begin of post doublets removal and QC plot\n",
      "Running Scrublet\n",
      "filtered out 15203 genes that are detected in less than 3 cells\n",
      "normalizing counts per cell\n",
      "    finished (0:00:00)\n",
      "extracting highly variable genes\n",
      "    finished (0:00:00)\n",
      "--> added\n",
      "    'highly_variable', boolean vector (adata.var)\n",
      "    'means', float vector (adata.var)\n",
      "    'dispersions', float vector (adata.var)\n",
      "    'dispersions_norm', float vector (adata.var)\n",
      "normalizing counts per cell\n",
      "    finished (0:00:00)\n",
      "normalizing counts per cell\n",
      "    finished (0:00:00)\n",
      "Embedding transcriptomes using PCA...\n",
      "Automatically set threshold at doublet score = 0.26\n",
      "Detected doublet rate = 2.2%\n",
      "Estimated detectable doublet fraction = 35.7%\n",
      "Overall doublet rate:\n",
      "\tExpected   = 5.0%\n",
      "\tEstimated  = 6.3%\n",
      "    Scrublet finished (0:00:11)\n",
      "Cells retained after scrublet: 8154, 186 removed.\n",
      "End of post doublets removal and QC plots.\n"
     ]
    }
   ],
   "source": [
    "print('Begin of post doublets removal and QC plot')\n",
    "sc.external.pp.scrublet(adata, random_state=112)\n",
    "adata = adata[adata.obs['predicted_doublet']==False, :].copy()\n",
    "n1 = adata.shape[0]\n",
    "print(f'Cells retained after scrublet: {n1}, {n0-n1} removed.')\n",
    "print(f'End of post doublets removal and QC plots.')"
   ]
  },
  {
   "cell_type": "markdown",
   "id": "a6095721-0c01-4f5f-ab76-f87294866715",
   "metadata": {},
   "source": [
    "### 4. 手动/自动过滤低质量reads细胞\n",
    "将adata复制成两份"
   ]
  },
  {
   "cell_type": "code",
   "execution_count": 12,
   "id": "d47271a6-3d42-4924-89a2-efbf15ae95a6",
   "metadata": {},
   "outputs": [],
   "source": [
    "adata_manual=adata.copy()\n",
    "adata_auto=adata.copy()"
   ]
  },
  {
   "cell_type": "markdown",
   "id": "70914c28-c0bb-41f6-91bb-bfd93541ee17",
   "metadata": {},
   "source": [
    "### 4.1 手动过滤低质量reads的细胞\n",
    "使用该过滤字典完成过滤操作"
   ]
  },
  {
   "cell_type": "code",
   "execution_count": 13,
   "id": "14d1d7dc-d3a8-4a4a-b750-241e2f1306e2",
   "metadata": {},
   "outputs": [
    {
     "name": "stdout",
     "output_type": "stream",
     "text": [
      "Lower treshold, nUMIs: 500; filtered-out-cells: 3\n",
      "Lower treshold, n genes: 250; filtered-out-cells: 216\n",
      "Lower treshold, mito %: 0.15; filtered-out-cells: 1447\n"
     ]
    }
   ],
   "source": [
    "import numpy as np\n",
    "tresh={'mito_perc': 0.15, 'nUMIs': 500, 'detected_genes': 250}\n",
    "\n",
    "adata_manual.obs['passing_mt'] = adata_manual.obs['mito_perc'] < tresh['mito_perc']\n",
    "adata_manual.obs['passing_nUMIs'] = adata_manual.obs['nUMIs'] > tresh['nUMIs']\n",
    "adata_manual.obs['passing_ngenes'] = adata_manual.obs['detected_genes'] > tresh['detected_genes']\n",
    "\n",
    "print(f'Lower treshold, nUMIs: {tresh[\"nUMIs\"]}; filtered-out-cells: {n1-np.sum(adata_manual.obs[\"passing_nUMIs\"])}')\n",
    "print(f'Lower treshold, n genes: {tresh[\"detected_genes\"]}; filtered-out-cells: {n1-np.sum(adata_manual.obs[\"passing_ngenes\"])}')\n",
    "print(f'Lower treshold, mito %: {tresh[\"mito_perc\"]}; filtered-out-cells: {n1-np.sum(adata_manual.obs[\"passing_mt\"])}')"
   ]
  },
  {
   "cell_type": "markdown",
   "id": "2556fbb6-48f7-4e73-8b76-0bdeb51514d6",
   "metadata": {},
   "source": [
    "取保留的细胞的交集"
   ]
  },
  {
   "cell_type": "code",
   "execution_count": 14,
   "id": "54af2d69-dcd5-4572-a6df-25fc213ea87c",
   "metadata": {},
   "outputs": [
    {
     "name": "stdout",
     "output_type": "stream",
     "text": [
      "Total cell filtered out with this last  QC (and its chosen options): 1555\n",
      "Cells retained after scrublet and filtering: 6599, 1741 removed.\n"
     ]
    }
   ],
   "source": [
    "QC_test = (adata_manual.obs['passing_mt']) & (adata_manual.obs['passing_nUMIs']) & (adata_manual.obs['passing_ngenes'])\n",
    "removed = QC_test.loc[lambda x : x == False]\n",
    "print(f'Total cell filtered out with this last  QC (and its chosen options): {n1-np.sum(QC_test)}')\n",
    "adata_manual = adata_manual[QC_test, :].copy()\n",
    "n2 = adata_manual.shape[0]\n",
    "    \n",
    "# Store cleaned adata\n",
    "print(f'Cells retained after scrublet and filtering: {n2}, {n0-n2} removed.')"
   ]
  },
  {
   "cell_type": "markdown",
   "id": "4c2e0145-f24d-4d31-a566-2db80e1a49b3",
   "metadata": {},
   "source": [
    "还需要过滤掉一些从基因和细胞层面低计数的细胞/基因"
   ]
  },
  {
   "cell_type": "code",
   "execution_count": 15,
   "id": "bfb54774-0b02-43ca-af0f-e4c08b768550",
   "metadata": {},
   "outputs": [
    {
     "name": "stdout",
     "output_type": "stream",
     "text": [
      "filtered out 15624 genes that are detected in less than 3 cells\n"
     ]
    },
    {
     "data": {
      "text/plain": [
       "AnnData object with n_obs × n_vars = 6599 × 20977\n",
       "    obs: 'n_genes_by_counts', 'log1p_n_genes_by_counts', 'total_counts', 'log1p_total_counts', 'pct_counts_in_top_20_genes', 'total_counts_mt', 'log1p_total_counts_mt', 'pct_counts_mt', 'total_counts_ribo', 'log1p_total_counts_ribo', 'pct_counts_ribo', 'total_counts_hb', 'log1p_total_counts_hb', 'pct_counts_hb', 'nUMIs', 'mito_perc', 'detected_genes', 'doublet_score', 'predicted_doublet', 'passing_mt', 'passing_nUMIs', 'passing_ngenes', 'n_genes'\n",
       "    var: 'gene_ids', 'feature_types', 'genome', 'mt', 'ribo', 'hb', 'n_cells_by_counts', 'mean_counts', 'log1p_mean_counts', 'pct_dropout_by_counts', 'total_counts', 'log1p_total_counts', 'n_cells'\n",
       "    uns: 'scrublet'"
      ]
     },
     "execution_count": 15,
     "metadata": {},
     "output_type": "execute_result"
    }
   ],
   "source": [
    "# Last gene and cell filter\n",
    "sc.pp.filter_cells(adata_manual, min_genes=200)\n",
    "sc.pp.filter_genes(adata_manual, min_cells=3)\n",
    "\n",
    "adata_manual"
   ]
  },
  {
   "cell_type": "markdown",
   "id": "1aec2687-bb0f-496c-856b-aa61d6ea7a32",
   "metadata": {},
   "source": [
    "### 4.2 自动过滤低质量reads的细胞\n",
    "首先设定好基础阈值  \n",
    "tresh={'mito_perc': 0.15, 'nUMIs': 500, 'detected_genes': 250}  \n",
    "在omicverse里，预先设定好了ov.pp._qc.mads和ov.pp._qc.mads_test两个函数，来计算MAD值"
   ]
  },
  {
   "cell_type": "code",
   "execution_count": 16,
   "id": "f44ef193-177d-4d36-b365-fc04d3f1f07e",
   "metadata": {},
   "outputs": [
    {
     "name": "stdout",
     "output_type": "stream",
     "text": [
      "Tresholds used, nUMIs: (500, 19212.5); filtered-out-cells: 521\n",
      "Tresholds used, n genes: (250, 4136.0); filtered-out-cells: 412\n",
      "Lower treshold, mito %: 0.15; filtered-out-cells: 1447\n"
     ]
    }
   ],
   "source": [
    "adata_auto.obs['passing_mt'] = adata_auto.obs['mito_perc'] < tresh['mito_perc']\n",
    "adata_auto.obs['passing_nUMIs'] = ov.pp._qc.mads_test(adata_auto.obs, 'nUMIs', nmads=5, lt=tresh)\n",
    "adata_auto.obs['passing_ngenes'] = ov.pp._qc.mads_test(adata_auto.obs, 'detected_genes', nmads=5, lt=tresh)  \n",
    "\n",
    "nUMIs_t = ov.pp._qc.mads(adata_auto.obs, 'nUMIs', nmads=5, lt=tresh)\n",
    "n_genes_t = ov.pp._qc.mads(adata_auto.obs, 'detected_genes', nmads=5, lt=tresh)\n",
    "print(f'Tresholds used, nUMIs: ({nUMIs_t[0]}, {nUMIs_t[1]}); filtered-out-cells: {n1-np.sum(adata_auto.obs[\"passing_nUMIs\"])}')\n",
    "print(f'Tresholds used, n genes: ({n_genes_t[0]}, {n_genes_t[1]}); filtered-out-cells: {n1-np.sum(adata_auto.obs[\"passing_ngenes\"])}')\n",
    "print(f'Lower treshold, mito %: {tresh[\"mito_perc\"]}; filtered-out-cells: {n1-np.sum(adata_auto.obs[\"passing_mt\"])}')"
   ]
  },
  {
   "cell_type": "markdown",
   "id": "a64a9298-004c-4891-9069-2f76bb355c8d",
   "metadata": {},
   "source": [
    "保留需要的细胞取交集"
   ]
  },
  {
   "cell_type": "code",
   "execution_count": 17,
   "id": "a70450e5-d2ae-452d-b03c-db1166a80bba",
   "metadata": {},
   "outputs": [
    {
     "name": "stdout",
     "output_type": "stream",
     "text": [
      "Total cell filtered out with this last  QC (and its chosen options): 2082\n",
      "Cells retained after scrublet and filtering: 6072, 2268 removed.\n"
     ]
    }
   ],
   "source": [
    "QC_test = (adata_auto.obs['passing_mt']) & (adata_auto.obs['passing_nUMIs']) & (adata_auto.obs['passing_ngenes'])\n",
    "removed = QC_test.loc[lambda x : x == False]\n",
    "print(f'Total cell filtered out with this last  QC (and its chosen options): {n1-np.sum(QC_test)}')\n",
    "adata_auto = adata_auto[QC_test, :].copy()\n",
    "n2 = adata_auto.shape[0]\n",
    "    \n",
    "# Store cleaned adata\n",
    "print(f'Cells retained after scrublet and filtering: {n2}, {n0-n2} removed.')"
   ]
  },
  {
   "cell_type": "markdown",
   "id": "f686b078-8b52-4f8b-887f-9df694641e4b",
   "metadata": {},
   "source": [
    "过滤掉一些从基因和细胞层面低计数的细胞/基因"
   ]
  },
  {
   "cell_type": "code",
   "execution_count": 18,
   "id": "021dd18e-ee8a-42f9-9b4c-b4b754b3535e",
   "metadata": {},
   "outputs": [
    {
     "name": "stdout",
     "output_type": "stream",
     "text": [
      "filtered out 16377 genes that are detected in less than 3 cells\n"
     ]
    },
    {
     "data": {
      "text/plain": [
       "AnnData object with n_obs × n_vars = 6072 × 20224\n",
       "    obs: 'n_genes_by_counts', 'log1p_n_genes_by_counts', 'total_counts', 'log1p_total_counts', 'pct_counts_in_top_20_genes', 'total_counts_mt', 'log1p_total_counts_mt', 'pct_counts_mt', 'total_counts_ribo', 'log1p_total_counts_ribo', 'pct_counts_ribo', 'total_counts_hb', 'log1p_total_counts_hb', 'pct_counts_hb', 'nUMIs', 'mito_perc', 'detected_genes', 'doublet_score', 'predicted_doublet', 'passing_mt', 'passing_nUMIs', 'passing_ngenes', 'n_genes'\n",
       "    var: 'gene_ids', 'feature_types', 'genome', 'mt', 'ribo', 'hb', 'n_cells_by_counts', 'mean_counts', 'log1p_mean_counts', 'pct_dropout_by_counts', 'total_counts', 'log1p_total_counts', 'n_cells'\n",
       "    uns: 'scrublet'"
      ]
     },
     "execution_count": 18,
     "metadata": {},
     "output_type": "execute_result"
    }
   ],
   "source": [
    "# Last gene and cell filter\n",
    "sc.pp.filter_cells(adata_auto, min_genes=200)\n",
    "sc.pp.filter_genes(adata_auto, min_cells=3)\n",
    "\n",
    "adata_auto"
   ]
  },
  {
   "cell_type": "markdown",
   "id": "e2157464-0dd0-40da-98ac-2f5cd7016b54",
   "metadata": {},
   "source": [
    "自动过滤会比手动过滤去除掉更多的细胞，这是因MAD的识别完全从数据的角度出发，去除了离群的值，但是我们手动过滤没有对离群的值进行过滤，而是全部保留。"
   ]
  },
  {
   "cell_type": "markdown",
   "id": "940937c2-7133-4a58-81de-62287e2bc731",
   "metadata": {},
   "source": [
    "omicverse中，我们提供了ov.pp.qc函数来完成质控的所有步骤。该函数的参数如下：\n",
    "\n",
    "- mode: 我们可以指定为'seurat'或'mads',如果为seurat，那么则是执行上面的手动过滤步骤，如果是mads，则是自动过滤步骤\n",
    "- min_cells: 一个基因最少在多少个细胞中表达，如果设定为3，那么意味着表达少于3个细胞的基因都将被过滤掉\n",
    "- min_genes: 一个细胞最少表达多少个基因，如果设定为200，那么意味着表达量小于200的细胞都将被过滤掉\n",
    "- nmads: MADs的倍数，前面有阐述，默认5倍为离群值\n",
    "- tresh=None\n",
    "如果tresh==None，那么其自动设置为{'mito_perc': 0.15, 'nUMIs': 500, 'detected_genes': 250}"
   ]
  },
  {
   "cell_type": "code",
   "execution_count": 19,
   "id": "d3c2d366-bd9f-4597-b05b-75126804ddc1",
   "metadata": {},
   "outputs": [
    {
     "name": "stdout",
     "output_type": "stream",
     "text": [
      "Calculate QC metrics\n",
      "End calculation of QC metrics.\n",
      "Original cell number: 8154\n",
      "Begin of post doublets removal and QC plot\n",
      "Running Scrublet\n",
      "filtered out 15307 genes that are detected in less than 3 cells\n",
      "normalizing counts per cell\n",
      "    finished (0:00:00)\n",
      "extracting highly variable genes\n",
      "    finished (0:00:00)\n",
      "--> added\n",
      "    'highly_variable', boolean vector (adata.var)\n",
      "    'means', float vector (adata.var)\n",
      "    'dispersions', float vector (adata.var)\n",
      "    'dispersions_norm', float vector (adata.var)\n",
      "normalizing counts per cell\n",
      "    finished (0:00:00)\n",
      "normalizing counts per cell\n",
      "    finished (0:00:00)\n",
      "Embedding transcriptomes using PCA...\n",
      "Automatically set threshold at doublet score = 0.58\n",
      "Detected doublet rate = 0.0%\n",
      "Estimated detectable doublet fraction = 23.8%\n",
      "Overall doublet rate:\n",
      "\tExpected   = 5.0%\n",
      "\tEstimated  = 0.0%\n",
      "    Scrublet finished (0:00:10)\n",
      "Cells retained after scrublet: 8154, 0 removed.\n",
      "End of post doublets removal and QC plots.\n",
      "Filters application (seurat or mads)\n",
      "Lower treshold, nUMIs: 500; filtered-out-cells: 3\n",
      "Lower treshold, n genes: 250; filtered-out-cells: 216\n",
      "Lower treshold, mito %: 0.05; filtered-out-cells: 5602\n",
      "Filters applicated.\n",
      "Total cell filtered out with this last --mode seurat QC (and its chosen options): 5707\n",
      "Cells retained after scrublet and seurat filtering: 2447, 5707 removed.\n",
      "filtered out 19548 genes that are detected in less than 3 cells\n"
     ]
    },
    {
     "data": {
      "text/plain": [
       "AnnData object with n_obs × n_vars = 2447 × 17053\n",
       "    obs: 'n_genes_by_counts', 'log1p_n_genes_by_counts', 'total_counts', 'log1p_total_counts', 'pct_counts_in_top_20_genes', 'total_counts_mt', 'log1p_total_counts_mt', 'pct_counts_mt', 'total_counts_ribo', 'log1p_total_counts_ribo', 'pct_counts_ribo', 'total_counts_hb', 'log1p_total_counts_hb', 'pct_counts_hb', 'nUMIs', 'mito_perc', 'detected_genes', 'doublet_score', 'predicted_doublet', 'cell_complexity', 'passing_mt', 'passing_nUMIs', 'passing_ngenes', 'n_genes'\n",
       "    var: 'gene_ids', 'feature_types', 'genome', 'mt', 'ribo', 'hb', 'n_cells_by_counts', 'mean_counts', 'log1p_mean_counts', 'pct_dropout_by_counts', 'total_counts', 'log1p_total_counts', 'n_cells'\n",
       "    uns: 'scrublet'"
      ]
     },
     "execution_count": 19,
     "metadata": {},
     "output_type": "execute_result"
    }
   ],
   "source": [
    "adata=ov.pp.qc(adata,\n",
    "         tresh={'mito_perc': 0.05, 'nUMIs': 500, 'detected_genes': 250})\n",
    "adata"
   ]
  },
  {
   "cell_type": "code",
   "execution_count": 22,
   "id": "11067a08-92e7-447d-9364-3f51407e897f",
   "metadata": {},
   "outputs": [],
   "source": [
    "adata.write_h5ad('data/sc01.after_quality_control.h5ad', compression='gzip')"
   ]
  },
  {
   "cell_type": "markdown",
   "id": "c3900c7b-91d2-4ead-98e6-1003d2f11c10",
   "metadata": {},
   "source": [
    "### 5 环境 RNA 的校正\n",
    "\n",
    "注：本节可能会导致计数矩阵不为整数，使得部分包失效，所以该分析除非你很明确环境RNA的干扰十分严重，\n",
    "不然我认为是可以被跳过的。\n",
    "\n",
    "对于基于液滴的单细胞 RNA-seq 实验，一定数量的背景 mRNA 存在于稀释液中，与细胞一起分布在液滴中，并随之测序。\n",
    "这样做的最终结果是产生一种背景污染，这种污染表现的不是液滴中所含细胞的表达，而是包含细胞的溶液。\n",
    "\n",
    "基于液滴的 scRNA-seq 为多个细胞的基因产生独特的分子标识符(UMI)计数，目的是确定每个基因和每个细胞的分子数量。它假设每个液滴都含有来自单个细胞的 mRNA。重复，空液滴和无细胞 RNA 可以打破这一假设。\n",
    "\n",
    "无细胞的 mRNA 分子代表存在于稀释液中的背景 mRNA。\n",
    "输入溶液中这种无细胞 mRNA 的污染通常被称为细胞溶解产生的“soup”。"
   ]
  },
  {
   "cell_type": "markdown",
   "id": "0db2c827-5654-4420-a969-8b0d2af86598",
   "metadata": {},
   "source": [
    "无细胞的 mRNA 分子，也被称为环境 RNA，可以混淆观察到的计数的数量，可以被看作是背景污染。"
   ]
  },
  {
   "cell_type": "markdown",
   "id": "ac9e3b71-6b50-4f71-a386-8dd39542345c",
   "metadata": {},
   "source": [
    "我们推荐使用soupX包来完成环境RNA的校正，由于环境RNA的校正需要用到raw_feature_bc_matrix文件，该文件大部分文章都不会上传到公开数据集，所以感兴趣的读者可以自行研究soupX的教程。或者从单细胞最佳实践的英文版教程中完成该分析"
   ]
  },
  {
   "cell_type": "markdown",
   "id": "e623920f-081a-4b04-950d-322ce779f52b",
   "metadata": {},
   "source": [
    "[SoupX](https://github.com/constantAmateur/SoupX)\n",
    "\n",
    "```Rscript\n",
    "library(SoupX)\n",
    "library(DropletUtils)\n",
    "\n",
    "sc = load10X('path/to/your/cellranger/outs/folder')\n",
    "if (is.null(rho)) {\n",
    "tryCatch(\n",
    "{sc = autoEstCont(sc)}, \n",
    "error=function(e) {\n",
    "#因为自动计算经常会报错，所以如果报错则设置rho为0.2\n",
    "print(\"autoEstCont Error !\")\n",
    "sc = setContaminationFraction(sc, 0.2)}\n",
    ")\n",
    "}else{\n",
    "#自行设置污染比例系数\n",
    "sc = setContaminationFraction(sc, rho)\n",
    "}\n",
    "\n",
    "#校正矩阵\n",
    "out = adjustCounts(sc)\n",
    "#保存两个矩阵文件\n",
    "saveRDS(sc,\"sc.rds\")\n",
    "#保存校正后的矩阵，输出为10X格式\n",
    "DropletUtils:::write10xCounts(\"./soupX_matrix\", out,version=\"3\")\n",
    "```\n",
    "[结合Seurat批量去除环境RNA污染（SoupX）2022-05-19](https://www.jianshu.com/p/b9799b401f8f)\n",
    "\n",
    "```Rscript\n",
    "##参数简介\n",
    "#toc是分析矩阵，即有过滤的矩阵\n",
    "#tod是全矩阵，即没有任何过滤的矩阵\n",
    "#rho是污染比例系数，可自行设置，如果不设置则会自动计算\n",
    "\n",
    "run_soupx <- function(toc,tod,rho=NULL) {\n",
    "toc <- Read10X(toc,gene.column=1)\n",
    "tod <- Read10X(tod,gene.column=1)\n",
    "\n",
    "#保证基因名一致\n",
    "tod <- tod[rownames(toc),]\n",
    "\n",
    "##SoupX帮助文档建议提供分析矩阵的聚类亚群分组，因此这里利用分析矩阵做一个简单聚类\n",
    "all <- toc\n",
    "all <- CreateSeuratObject(all)\n",
    "all <- NormalizeData(all, normalization.method = \"LogNormalize\", scale.factor = 10000)\n",
    "all <- FindVariableFeatures(all, selection.method = \"vst\", nfeatures = 3000)\n",
    "all.genes <- rownames(all)\n",
    "all <- ScaleData(all, features = all.genes)\n",
    "all <- RunPCA(all, features = VariableFeatures(all), npcs = 40, verbose = F)\n",
    "all <- FindNeighbors(all, dims = 1:30)\n",
    "all <- FindClusters(all, resolution = 0.5)\n",
    "all <- RunUMAP(all, dims = 1:30)\n",
    "#提取聚类后的meta.data信息\n",
    "matx <- all@meta.data\n",
    "\n",
    "sc = SoupChannel(tod, toc)\n",
    "sc = setClusters(sc, setNames(matx$seurat_clusters, rownames(matx)))\n",
    "#自动计算污染比例系数\n",
    "if (is.null(rho)) {\n",
    "tryCatch(\n",
    "{sc = autoEstCont(sc)}, \n",
    "error=function(e) {\n",
    "#因为自动计算经常会报错，所以如果报错则设置rho为0.2\n",
    "print(\"autoEstCont Error !\")\n",
    "sc = setContaminationFraction(sc, 0.2)}\n",
    ")\n",
    "}else{\n",
    "#自行设置污染比例系数\n",
    "sc = setContaminationFraction(sc, rho)\n",
    "}\n",
    "#校正矩阵\n",
    "out = adjustCounts(sc)\n",
    "#保存两个矩阵文件\n",
    "saveRDS(sc,\"sc.rds\")\n",
    "#保存校正后的矩阵，输出为10X格式\n",
    "DropletUtils:::write10xCounts(\"./soupX_matrix\", out,version=\"3\")\n",
    "}\n",
    "```"
   ]
  },
  {
   "cell_type": "code",
   "execution_count": null,
   "id": "c56573e0-b472-41d8-96f1-ef09f87f5b57",
   "metadata": {},
   "outputs": [],
   "source": []
  }
 ],
 "metadata": {
  "kernelspec": {
   "display_name": "Python 3 (ipykernel)",
   "language": "python",
   "name": "python3"
  },
  "language_info": {
   "codemirror_mode": {
    "name": "ipython",
    "version": 3
   },
   "file_extension": ".py",
   "mimetype": "text/x-python",
   "name": "python",
   "nbconvert_exporter": "python",
   "pygments_lexer": "ipython3",
   "version": "3.11.6"
  }
 },
 "nbformat": 4,
 "nbformat_minor": 5
}
